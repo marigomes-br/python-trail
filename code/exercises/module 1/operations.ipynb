{
 "cells": [
  {
   "cell_type": "markdown",
   "id": "35ce8e37",
   "metadata": {},
   "source": [
    "### Exercises Module 1 - Operations, Variables and Input"
   ]
  },
  {
   "cell_type": "markdown",
   "id": "24d091ed",
   "metadata": {},
   "source": [
    "##### Part 1 - Operations and Variables"
   ]
  },
  {
   "cell_type": "markdown",
   "id": "9d992554",
   "metadata": {},
   "source": [
    "Create a program that prints Hashtag&Drink's main indicators in the last year. Obs.: do everything using variables.\n",
    "\n",
    "Last year values: \n",
    "\n",
    "Quantity of Coca-Cola sales = 150 <br>\n",
    "Quantity of Pepsi sales = 130 <br>\n",
    "Unit price of Coca-Cola = 1,50 <br>\n",
    "Unit price of Pepsi = 1,50 <br>\n",
    "Store's cost = 2.500,00 <br>\n",
    "\n",
    "Use the block below to create all the variables that you need\n"
   ]
  },
  {
   "cell_type": "code",
   "execution_count": 4,
   "id": "8f14daa5",
   "metadata": {},
   "outputs": [],
   "source": [
    "quantityCoca = 150\n",
    "quantityPepsi = 130\n",
    "unitPriceCoca = 1.50\n",
    "unitPricePepsi = 1.50\n",
    "storeCost = 2500.00"
   ]
  },
  {
   "cell_type": "markdown",
   "id": "0b77b8c1",
   "metadata": {},
   "source": [
    "1. What's the Store's Pepsi billing? "
   ]
  },
  {
   "cell_type": "code",
   "execution_count": 5,
   "id": "767eee22",
   "metadata": {},
   "outputs": [
    {
     "name": "stdout",
     "output_type": "stream",
     "text": [
      "Pepsi billing:  195.0\n"
     ]
    }
   ],
   "source": [
    "billingPepsi = quantityPepsi * unitPricePepsi\n",
    "print('Pepsi billing: ', billingPepsi)"
   ]
  },
  {
   "cell_type": "markdown",
   "id": "7d3e69d3",
   "metadata": {},
   "source": [
    "2. What's the Store's Coca-Cola billing? "
   ]
  },
  {
   "cell_type": "code",
   "execution_count": 6,
   "id": "78901007",
   "metadata": {},
   "outputs": [
    {
     "name": "stdout",
     "output_type": "stream",
     "text": [
      "Coca billing:  225.0\n"
     ]
    }
   ],
   "source": [
    "billingCoca = quantityCoca * unitPriceCoca\n",
    "print('Coca billing: ', billingCoca)"
   ]
  },
  {
   "cell_type": "markdown",
   "id": "b67155d5",
   "metadata": {},
   "source": [
    "3. What's the Store's profit?"
   ]
  },
  {
   "cell_type": "code",
   "execution_count": null,
   "id": "1d6b62b0",
   "metadata": {},
   "outputs": [
    {
     "name": "stdout",
     "output_type": "stream",
     "text": [
      "Store's profit:  -2080.0\n"
     ]
    }
   ],
   "source": [
    "storeBilling = billingCoca + billingPepsi\n",
    "storeProfit = storeBilling - storeCost\n",
    "\n",
    "print(\"Store's profit: \", storeProfit)"
   ]
  },
  {
   "cell_type": "markdown",
   "id": "26f53d3c",
   "metadata": {},
   "source": [
    "4. What was the store's margin? (Remember, margin = profit / billing). You don't need to format in percentage"
   ]
  },
  {
   "cell_type": "code",
   "execution_count": 15,
   "id": "ac611570",
   "metadata": {},
   "outputs": [
    {
     "name": "stdout",
     "output_type": "stream",
     "text": [
      "Store's margin:  -4.9523809523809526\n"
     ]
    }
   ],
   "source": [
    "storeMargin = storeProfit / storeBilling\n",
    "print(\"Store's margin: \", storeMargin)"
   ]
  },
  {
   "cell_type": "markdown",
   "id": "06db764f",
   "metadata": {},
   "source": [
    "##### Part 2 - Inputs and Strings"
   ]
  },
  {
   "cell_type": "markdown",
   "id": "1c7a0f11",
   "metadata": {},
   "source": [
    "Most companies work with a Code for each product they have. The Hashtag&Grink, for example, have more than 1.000 produts and has one Code for each of them. Ex.: Coca -> Code: BEB1300\n",
    "\n",
    "Pepsi -> Code: BEB1301 <br>\n",
    "Wine Primitive -> ALC1546 <br>\n",
    "Vodka Smirnoff -> ALC1344 <br>\n",
    "\n",
    "Note that all non-alcoholic drinks have 'BEB' at the beginning of the codes, and all alcololics have 'ALC'.\n",
    "\n",
    "Create a drink query program that, given any code, identifies whether the drink is alcoholic. The program should respond with True for alcoholic drinks and False for non-alcoholic drinks. To enter a code, use an input.\n",
    "\n",
    "Tip: Remember command 'in' to strings and always insert codes with a capital letter (to make it easier);"
   ]
  },
  {
   "cell_type": "code",
   "execution_count": 12,
   "id": "c05ea159",
   "metadata": {},
   "outputs": [
    {
     "name": "stdout",
     "output_type": "stream",
     "text": [
      "Let's discover if your code is for a non-alcoholic drink or not: \n",
      "True\n"
     ]
    }
   ],
   "source": [
    "print(\"Let's discover if your code is for a non-alcoholic drink or not: \")\n",
    "\n",
    "code = input('Insert your code: ')\n",
    "\n",
    "print('BEB' in code)"
   ]
  }
 ],
 "metadata": {
  "kernelspec": {
   "display_name": "Python 3",
   "language": "python",
   "name": "python3"
  },
  "language_info": {
   "codemirror_mode": {
    "name": "ipython",
    "version": 3
   },
   "file_extension": ".py",
   "mimetype": "text/x-python",
   "name": "python",
   "nbconvert_exporter": "python",
   "pygments_lexer": "ipython3",
   "version": "3.13.7"
  }
 },
 "nbformat": 4,
 "nbformat_minor": 5
}
