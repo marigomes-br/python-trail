{
 "cells": [
  {
   "cell_type": "code",
   "execution_count": null,
   "id": "1afb31ca",
   "metadata": {},
   "outputs": [
    {
     "name": "stdout",
     "output_type": "stream",
     "text": [
      "Using strings in Python\n"
     ]
    }
   ],
   "source": [
    "print('Using strings in Python')"
   ]
  },
  {
   "cell_type": "code",
   "execution_count": 9,
   "id": "5416138f",
   "metadata": {},
   "outputs": [
    {
     "name": "stdout",
     "output_type": "stream",
     "text": [
      "concat:  my 3 strings\n"
     ]
    }
   ],
   "source": [
    "print('concat: ', 'my' + ' 3 ' + 'strings')"
   ]
  },
  {
   "cell_type": "code",
   "execution_count": 12,
   "id": "bb9a2765",
   "metadata": {},
   "outputs": [
    {
     "name": "stdout",
     "output_type": "stream",
     "text": [
      "comparation strings:  False\n"
     ]
    }
   ],
   "source": [
    "print('comparation strings: ', ' my name is ' in 'Mari')"
   ]
  },
  {
   "cell_type": "code",
   "execution_count": 13,
   "id": "e7fbfda2",
   "metadata": {},
   "outputs": [
    {
     "name": "stdout",
     "output_type": "stream",
     "text": [
      "comparation strings:  True\n"
     ]
    }
   ],
   "source": [
    "print('comparation strings: ', 'Mari' in 'Mari')"
   ]
  },
  {
   "cell_type": "code",
   "execution_count": 14,
   "id": "05bce8b5",
   "metadata": {},
   "outputs": [
    {
     "name": "stdout",
     "output_type": "stream",
     "text": [
      "comparation strings:  True\n"
     ]
    }
   ],
   "source": [
    "print('comparation strings: ', 'M' in 'Mari')"
   ]
  },
  {
   "cell_type": "code",
   "execution_count": 16,
   "id": "ad603695",
   "metadata": {},
   "outputs": [
    {
     "name": "stdout",
     "output_type": "stream",
     "text": [
      "comparation strings (case sensitive):  False\n"
     ]
    }
   ],
   "source": [
    "print('comparation strings (case sensitive): ', 'm' in 'Mari')"
   ]
  },
  {
   "cell_type": "code",
   "execution_count": null,
   "id": "364722a4",
   "metadata": {},
   "outputs": [],
   "source": []
  }
 ],
 "metadata": {
  "kernelspec": {
   "display_name": "Python 3",
   "language": "python",
   "name": "python3"
  },
  "language_info": {
   "codemirror_mode": {
    "name": "ipython",
    "version": 3
   },
   "file_extension": ".py",
   "mimetype": "text/x-python",
   "name": "python",
   "nbconvert_exporter": "python",
   "pygments_lexer": "ipython3",
   "version": "3.13.7"
  }
 },
 "nbformat": 4,
 "nbformat_minor": 5
}
