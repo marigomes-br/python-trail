{
 "cells": [
  {
   "cell_type": "code",
   "execution_count": 7,
   "id": "637747e3",
   "metadata": {},
   "outputs": [
    {
     "name": "stdout",
     "output_type": "stream",
     "text": [
      "Using variables in Python\n"
     ]
    }
   ],
   "source": [
    "print('Using variables in Python')"
   ]
  },
  {
   "cell_type": "code",
   "execution_count": 4,
   "id": "a19c043f",
   "metadata": {},
   "outputs": [
    {
     "name": "stdout",
     "output_type": "stream",
     "text": [
      "Name:  Mari\n",
      "Amount of sales:  1500\n"
     ]
    }
   ],
   "source": [
    "amountSales = 1500\n",
    "name = 'Mari'\n",
    "\n",
    "\n",
    "print('Name: ', name)\n",
    "print('Amount of sales: ', amountSales)\n"
   ]
  },
  {
   "cell_type": "code",
   "execution_count": 1,
   "id": "c6d9177e",
   "metadata": {},
   "outputs": [],
   "source": [
    "billing = 150\n",
    "cost = 50"
   ]
  },
  {
   "cell_type": "code",
   "execution_count": 2,
   "id": "34fe3643",
   "metadata": {},
   "outputs": [
    {
     "name": "stdout",
     "output_type": "stream",
     "text": [
      "Profit:  100\n"
     ]
    }
   ],
   "source": [
    "profit = billing - cost\n",
    "print('Profit: ', profit)"
   ]
  },
  {
   "cell_type": "markdown",
   "id": "af3cb665",
   "metadata": {},
   "source": [
    "##### Variables types\n",
    "\n",
    "A variavel is an object, after all everything is an object in Python\n",
    "\n",
    "int -> integer <br>\n",
    "string -> text <br>\n",
    "float -> decimal <br>\n",
    "bool or boolean -> True or False <br>\n",
    "\n",
    "Obs.: Variables in Pyhton are not declare explicitly, but it don't means that you must changing every time.\n",
    "\n",
    "Obs2.: Beware of restricted names!"
   ]
  },
  {
   "cell_type": "code",
   "execution_count": 5,
   "id": "36df2776",
   "metadata": {},
   "outputs": [
    {
     "data": {
      "text/plain": [
       "int"
      ]
     },
     "execution_count": 5,
     "metadata": {},
     "output_type": "execute_result"
    }
   ],
   "source": [
    "billing = 1000\n",
    "type(billing)"
   ]
  },
  {
   "cell_type": "code",
   "execution_count": 6,
   "id": "faebeabe",
   "metadata": {},
   "outputs": [
    {
     "data": {
      "text/plain": [
       "float"
      ]
     },
     "execution_count": 6,
     "metadata": {},
     "output_type": "execute_result"
    }
   ],
   "source": [
    "billing = 1000.00\n",
    "type(billing)"
   ]
  },
  {
   "cell_type": "code",
   "execution_count": 7,
   "id": "6b0c6291",
   "metadata": {},
   "outputs": [
    {
     "data": {
      "text/plain": [
       "str"
      ]
     },
     "execution_count": 7,
     "metadata": {},
     "output_type": "execute_result"
    }
   ],
   "source": [
    "billing = '1000'\n",
    "type(billing)"
   ]
  },
  {
   "cell_type": "code",
   "execution_count": 9,
   "id": "05ba20c7",
   "metadata": {},
   "outputs": [
    {
     "data": {
      "text/plain": [
       "bool"
      ]
     },
     "execution_count": 9,
     "metadata": {},
     "output_type": "execute_result"
    }
   ],
   "source": [
    "winBonus = True\n",
    "type(winBonus)"
   ]
  },
  {
   "cell_type": "code",
   "execution_count": 11,
   "id": "87753839",
   "metadata": {},
   "outputs": [
    {
     "name": "stdout",
     "output_type": "stream",
     "text": [
      "Store's profit was 500\n"
     ]
    }
   ],
   "source": [
    "billing = 1000\n",
    "cost = 500\n",
    "profit = billing - cost\n",
    "\n",
    "print(\"Store's profit was \" + str(profit))"
   ]
  }
 ],
 "metadata": {
  "kernelspec": {
   "display_name": "Python 3",
   "language": "python",
   "name": "python3"
  },
  "language_info": {
   "codemirror_mode": {
    "name": "ipython",
    "version": 3
   },
   "file_extension": ".py",
   "mimetype": "text/x-python",
   "name": "python",
   "nbconvert_exporter": "python",
   "pygments_lexer": "ipython3",
   "version": "3.13.7"
  }
 },
 "nbformat": 4,
 "nbformat_minor": 5
}
