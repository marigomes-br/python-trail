{
 "cells": [
  {
   "cell_type": "code",
   "execution_count": 7,
   "id": "637747e3",
   "metadata": {},
   "outputs": [
    {
     "name": "stdout",
     "output_type": "stream",
     "text": [
      "Using variables in Python\n"
     ]
    }
   ],
   "source": [
    "print('Using variables in Python')"
   ]
  },
  {
   "cell_type": "code",
   "execution_count": 11,
   "id": "a19c043f",
   "metadata": {},
   "outputs": [
    {
     "name": "stdout",
     "output_type": "stream",
     "text": [
      "Name:  Mari\n",
      "Amount of sales:  1500\n"
     ]
    }
   ],
   "source": [
    "amountSales = 1500\n",
    "name = 'Mari'\n",
    "\n",
    "\n",
    "print('Name: ', name)\n",
    "print('Amount of sales: ', amountSales)\n"
   ]
  },
  {
   "cell_type": "code",
   "execution_count": 17,
   "id": "c6d9177e",
   "metadata": {},
   "outputs": [],
   "source": [
    "revenue = 150\n",
    "cost = 50"
   ]
  },
  {
   "cell_type": "code",
   "execution_count": 18,
   "id": "34fe3643",
   "metadata": {},
   "outputs": [
    {
     "name": "stdout",
     "output_type": "stream",
     "text": [
      "Profit:  100\n"
     ]
    }
   ],
   "source": [
    "profit = revenue - cost\n",
    "print('Profit: ', profit)"
   ]
  }
 ],
 "metadata": {
  "kernelspec": {
   "display_name": "Python 3",
   "language": "python",
   "name": "python3"
  },
  "language_info": {
   "codemirror_mode": {
    "name": "ipython",
    "version": 3
   },
   "file_extension": ".py",
   "mimetype": "text/x-python",
   "name": "python",
   "nbconvert_exporter": "python",
   "pygments_lexer": "ipython3",
   "version": "3.13.7"
  }
 },
 "nbformat": 4,
 "nbformat_minor": 5
}
