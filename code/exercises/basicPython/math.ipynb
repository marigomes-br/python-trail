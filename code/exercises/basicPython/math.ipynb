{
 "cells": [
  {
   "cell_type": "code",
   "execution_count": null,
   "id": "c832a60f",
   "metadata": {},
   "outputs": [
    {
     "name": "stdout",
     "output_type": "stream",
     "text": [
      "my code on Jupyter\n"
     ]
    }
   ],
   "source": [
    "print(\"Arithmetic operations in Python\")"
   ]
  },
  {
   "cell_type": "code",
   "execution_count": null,
   "id": "1d33be63",
   "metadata": {},
   "outputs": [
    {
     "name": "stdout",
     "output_type": "stream",
     "text": [
      "sum:  2\n"
     ]
    }
   ],
   "source": [
    "print('sum: ', 1 + 1)"
   ]
  },
  {
   "cell_type": "code",
   "execution_count": null,
   "id": "9773a08c",
   "metadata": {},
   "outputs": [
    {
     "name": "stdout",
     "output_type": "stream",
     "text": [
      "subtration:  0\n"
     ]
    }
   ],
   "source": [
    "print('subtration: ', 1 - 1)"
   ]
  },
  {
   "cell_type": "code",
   "execution_count": null,
   "id": "be6cd427",
   "metadata": {},
   "outputs": [
    {
     "name": "stdout",
     "output_type": "stream",
     "text": [
      "multiplication:  4\n"
     ]
    }
   ],
   "source": [
    "print('multiplication: ', 2 * 2)"
   ]
  },
  {
   "cell_type": "code",
   "execution_count": 5,
   "id": "af970f22",
   "metadata": {},
   "outputs": [
    {
     "name": "stdout",
     "output_type": "stream",
     "text": [
      "power/high:  4\n"
     ]
    }
   ],
   "source": [
    "print('power/high: ', 2 ** 2)"
   ]
  },
  {
   "cell_type": "code",
   "execution_count": 9,
   "id": "439b7c9c",
   "metadata": {},
   "outputs": [
    {
     "name": "stdout",
     "output_type": "stream",
     "text": [
      "division (always using dots):  0.6666666666666666\n"
     ]
    }
   ],
   "source": [
    "print('division (always using dots): ', 2 / 3)"
   ]
  },
  {
   "cell_type": "code",
   "execution_count": 11,
   "id": "158d7a83",
   "metadata": {},
   "outputs": [
    {
     "name": "stdout",
     "output_type": "stream",
     "text": [
      "module (rest of division):  1\n"
     ]
    }
   ],
   "source": [
    "print('module (rest of division): ', 7 % 3)"
   ]
  }
 ],
 "metadata": {
  "kernelspec": {
   "display_name": "Python 3",
   "language": "python",
   "name": "python3"
  },
  "language_info": {
   "codemirror_mode": {
    "name": "ipython",
    "version": 3
   },
   "file_extension": ".py",
   "mimetype": "text/x-python",
   "name": "python",
   "nbconvert_exporter": "python",
   "pygments_lexer": "ipython3",
   "version": "3.13.7"
  }
 },
 "nbformat": 4,
 "nbformat_minor": 5
}
