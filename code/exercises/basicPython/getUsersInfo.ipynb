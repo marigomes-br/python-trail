{
 "cells": [
  {
   "cell_type": "code",
   "execution_count": 1,
   "id": "01515bf7",
   "metadata": {},
   "outputs": [
    {
     "name": "stdout",
     "output_type": "stream",
     "text": [
      "Getting user information in Python\n"
     ]
    }
   ],
   "source": [
    "print('Getting user information in Python')"
   ]
  },
  {
   "cell_type": "code",
   "execution_count": null,
   "id": "806c792e",
   "metadata": {},
   "outputs": [
    {
     "name": "stdout",
     "output_type": "stream",
     "text": [
      "Hello,  Mari Gomes\n",
      "Hello Mari segundo nome Gomes\n"
     ]
    }
   ],
   "source": [
    "name = input('What is your name? ')\n",
    "lastName = input('What is your last name? ')\n",
    "\n",
    "print('Hello, ', name, lastName)\n",
    "\n",
    "print(f'Hello, {name} segundo nome {lastName}')"
   ]
  }
 ],
 "metadata": {
  "kernelspec": {
   "display_name": "Python 3",
   "language": "python",
   "name": "python3"
  },
  "language_info": {
   "codemirror_mode": {
    "name": "ipython",
    "version": 3
   },
   "file_extension": ".py",
   "mimetype": "text/x-python",
   "name": "python",
   "nbconvert_exporter": "python",
   "pygments_lexer": "ipython3",
   "version": "3.13.7"
  }
 },
 "nbformat": 4,
 "nbformat_minor": 5
}
